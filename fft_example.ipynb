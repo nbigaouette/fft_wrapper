{
 "cells": [
  {
   "cell_type": "code",
   "execution_count": 1,
   "metadata": {
    "collapsed": false
   },
   "outputs": [
    {
     "name": "stdout",
     "output_type": "stream",
     "text": [
      "Once deleted, variables cannot be recovered. Proceed (y/[n])? y\n"
     ]
    }
   ],
   "source": [
    "%reset"
   ]
  },
  {
   "cell_type": "markdown",
   "metadata": {},
   "source": [
    "Make sure that matplotlib's figures are inlined in the notebook:"
   ]
  },
  {
   "cell_type": "code",
   "execution_count": 2,
   "metadata": {
    "collapsed": true
   },
   "outputs": [],
   "source": [
    "import plotly.plotly as py"
   ]
  },
  {
   "cell_type": "code",
   "execution_count": 3,
   "metadata": {
    "collapsed": true
   },
   "outputs": [],
   "source": [
    "#%matplotlib inline\n",
    "#%matplotlib tk"
   ]
  },
  {
   "cell_type": "markdown",
   "metadata": {},
   "source": [
    "Let's import NumPy:"
   ]
  },
  {
   "cell_type": "code",
   "execution_count": 4,
   "metadata": {
    "collapsed": true
   },
   "outputs": [],
   "source": [
    "import numpy as np"
   ]
  },
  {
   "cell_type": "markdown",
   "metadata": {},
   "source": [
    "We'll also need the wrapper:"
   ]
  },
  {
   "cell_type": "code",
   "execution_count": 5,
   "metadata": {
    "collapsed": false
   },
   "outputs": [],
   "source": [
    "import fftwrapper"
   ]
  },
  {
   "cell_type": "markdown",
   "metadata": {},
   "source": [
    "Let's define the frequencies variables:"
   ]
  },
  {
   "cell_type": "code",
   "execution_count": 6,
   "metadata": {
    "collapsed": true
   },
   "outputs": [],
   "source": [
    "f0s = np.array([1.0, 5.0, 2.5]) # Center frequencies\n",
    "T0s = 1.0 / f0s                 # Periods\n",
    "o0s  = 2.0 * np.pi * f0s        # Angular frequencies"
   ]
  },
  {
   "cell_type": "markdown",
   "metadata": {},
   "source": [
    "The duration of the total signal will be 10 times the longest period:"
   ]
  },
  {
   "cell_type": "code",
   "execution_count": 7,
   "metadata": {
    "collapsed": true
   },
   "outputs": [],
   "source": [
    "nT = 10.0"
   ]
  },
  {
   "cell_type": "markdown",
   "metadata": {},
   "source": [
    "Other time variables:"
   ]
  },
  {
   "cell_type": "code",
   "execution_count": 8,
   "metadata": {
    "collapsed": true
   },
   "outputs": [],
   "source": [
    "nt = 200                        # Nb of time steps\n",
    "tmax = nT * T0s.max()\n",
    "time = np.linspace(0.0, tmax, nt)\n",
    "dt = time[1] - time[0]"
   ]
  },
  {
   "cell_type": "markdown",
   "metadata": {},
   "source": [
    "Let's build the total signal:"
   ]
  },
  {
   "cell_type": "code",
   "execution_count": 9,
   "metadata": {
    "collapsed": true
   },
   "outputs": [],
   "source": [
    "signal = np.zeros(nt, dtype=np.complex128)\n",
    "for i in range(len(T0s)):\n",
    "    # Real signal: negative and positive frequencies\n",
    "    #signal += np.cos(o0s[i] * time)\n",
    "    # Complex signal: only positive frequencies\n",
    "    signal += np.cos(o0s[i] * time) + 1.0j*np.sin(o0s[i] * time)"
   ]
  },
  {
   "cell_type": "markdown",
   "metadata": {},
   "source": [
    "Calculate the FFT using the wrapper:"
   ]
  },
  {
   "cell_type": "code",
   "execution_count": 10,
   "metadata": {
    "collapsed": true
   },
   "outputs": [],
   "source": [
    "fft = fftwrapper.FFT()\n",
    "fft.Set_Time_Signal(time, signal, resize_NFFT = 0)        # No resizing\n",
    "#fft.Set_Time_Signal(time, signal, resize_NFFT = -1)       # Resize to lower closest power of 2\n",
    "#fft.Set_Time_Signal(time, signal, resize_NFFT = +1)       # Resize to upper closest power of 2\n",
    "#fft.Set_Time_Signal(time, signal, resize_NFFT = 10*nt)    # Resize to specific value"
   ]
  },
  {
   "cell_type": "markdown",
   "metadata": {},
   "source": [
    "We are ready to plot!"
   ]
  },
  {
   "cell_type": "code",
   "execution_count": 11,
   "metadata": {
    "collapsed": false
   },
   "outputs": [
    {
     "data": {
      "text/plain": [
       "<matplotlib.text.Text at 0x112fa3908>"
      ]
     },
     "execution_count": 11,
     "metadata": {},
     "output_type": "execute_result"
    }
   ],
   "source": [
    "#fft.Plot()\n",
    "import matplotlib.pyplot as plt\n",
    "fig = plt.figure()\n",
    "ax1 = fig.add_subplot(211)\n",
    "ax2 = fig.add_subplot(223)\n",
    "ax3 = fig.add_subplot(224, sharex=ax2)\n",
    "\n",
    "ax1.plot(fft.t, fft.signal.real, lw=2, label='Real')\n",
    "ax1.plot(fft.t, fft.signal.imag, lw=2, label='Imaginary')\n",
    "ax1.set_xlabel(\"t [time]\")\n",
    "ax1.set_ylabel(\"Signal [arb. unit]\")\n",
    "#leg = fft.ax1.legend(loc='best', fancybox=True)\n",
    "#leg.get_frame().set_alpha(0.75)\n",
    "\n",
    "# Plot |FFT|\n",
    "ax2.plot(fft.f, fft.Sabs, '-', lw=2)\n",
    "ax2.set_xlabel(r\"frequencies [time$^{-1}$]\")\n",
    "ax2.set_ylabel(r\"Spectrum\")\n",
    "ax2.set_yscale('log')\n",
    "\n",
    "# Plot /_ FFT\n",
    "ax3.plot(fft.f, fft.phase, '-', lw=2)\n",
    "ax3.set_xlabel(r\"frequencies [time$^{-1}$]\")\n",
    "ax3.set_ylabel(r\"Phase\")\n",
    "\n",
    "#plt.show()"
   ]
  },
  {
   "cell_type": "markdown",
   "metadata": {},
   "source": [
    "Why not convert the matplotlib figure to plotly?\n",
    "\n",
    "See [plotly example](https://plot.ly/python/ipython-notebooks/)."
   ]
  },
  {
   "cell_type": "code",
   "execution_count": 12,
   "metadata": {
    "collapsed": false
   },
   "outputs": [
    {
     "data": {
      "text/html": [
       "<iframe id=\"igraph\" scrolling=\"no\" style=\"border:none;\"seamless=\"seamless\" src=\"https://plot.ly/~nbigaouette2/11.embed\" height=\"525\" width=\"100%\"></iframe>"
      ],
      "text/plain": [
       "<plotly.tools.PlotlyDisplay object>"
      ]
     },
     "execution_count": 12,
     "metadata": {},
     "output_type": "execute_result"
    }
   ],
   "source": [
    "py.iplot_mpl(fig)"
   ]
  },
  {
   "cell_type": "code",
   "execution_count": null,
   "metadata": {
    "collapsed": true
   },
   "outputs": [],
   "source": []
  }
 ],
 "metadata": {
  "kernelspec": {
   "display_name": "Python 3",
   "language": "python",
   "name": "python3"
  },
  "language_info": {
   "codemirror_mode": {
    "name": "ipython",
    "version": 3
   },
   "file_extension": ".py",
   "mimetype": "text/x-python",
   "name": "python",
   "nbconvert_exporter": "python",
   "pygments_lexer": "ipython3",
   "version": "3.4.3"
  }
 },
 "nbformat": 4,
 "nbformat_minor": 0
}
