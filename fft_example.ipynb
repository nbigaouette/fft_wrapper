{
 "cells": [
  {
   "cell_type": "markdown",
   "metadata": {},
   "source": [
    "The following notebook gives a simple example of the usage of a python class named **fftwrapper**. This class was initially written to abstract away some redundant calculation that are required when calculating FFTs.\n",
    "\n",
    "NumPy provides a function [numpy.fft.fft()](http://docs.scipy.org/doc/numpy/reference/generated/numpy.fft.fft.html#numpy.fft.fft) function which calculates the discrete Fourier Transform (DFT) of a (1D) signal. Many functions in NumPy and SciPy were written to mimic the Matlab API as to reduce the learning curve required; *fft.fft()* included.\n",
    "\n",
    "As such, the *numpy.fft.fft()* function simply returns the discrete Fourier Transform of the signal, without information about the frequency space. Additionally, the [FFT](https://en.wikipedia.org/wiki/Fast_Fourier_transform) algorithm used to calculate the DFT returns the transform in a format which makes it confusing to visualize, requiring the application of the *numpy.fft.fftshift()* function to place the section of the transform associated with \"negative\" frequencies to the begining of the data, not at the end.\n",
    "\n",
    "Also, the actual frenquencies had to be calculated separatly, adding an error prone step to the process (that is, before [numpy.fft.fftfreq()](http://docs.scipy.org/doc/numpy/reference/generated/numpy.fft.fftfreq.html#numpy.fft.fftfreq) existed). There is no equivalent to *fftfreq()* in Matlab and one has to do the calculation manually.\n",
    "\n",
    "The **fftwrapper** module was written (many years ago) to abstract away all these calculations. This allowed to quickly calculate DFT and plot all the information without duplicating code. The module was also ported to Matlab as a previous employer required using Matlab.\n",
    "\n",
    "This module doesn't do much, but reduced significantly code duplication and bugs in a quickly evolving environment. I knew I could trust the DFT, including the calculated spectrum and phases."
   ]
  },
  {
   "cell_type": "markdown",
   "metadata": {},
   "source": [
    "Let's import NumPy, matplotlib and plotly:"
   ]
  },
  {
   "cell_type": "code",
   "execution_count": 1,
   "metadata": {
    "collapsed": true
   },
   "outputs": [],
   "source": [
    "import numpy as np\n",
    "import matplotlib.pyplot as plt\n",
    "import plotly.plotly as py"
   ]
  },
  {
   "cell_type": "markdown",
   "metadata": {},
   "source": [
    "We'll also need the custom FFT wrapper. It's a simple python class in the current directory:"
   ]
  },
  {
   "cell_type": "code",
   "execution_count": 2,
   "metadata": {
    "collapsed": false
   },
   "outputs": [],
   "source": [
    "import fftwrapper"
   ]
  },
  {
   "cell_type": "markdown",
   "metadata": {},
   "source": [
    "Let's define the frequencies variables:"
   ]
  },
  {
   "cell_type": "code",
   "execution_count": 3,
   "metadata": {
    "collapsed": true
   },
   "outputs": [],
   "source": [
    "f0s = np.array([1.0, 5.0, 2.5]) # Center frequencies\n",
    "T0s = 1.0 / f0s                 # Periods\n",
    "o0s  = 2.0 * np.pi * f0s        # Angular frequencies"
   ]
  },
  {
   "cell_type": "markdown",
   "metadata": {},
   "source": [
    "The duration of the whole signal will be 10 times the longest period:"
   ]
  },
  {
   "cell_type": "code",
   "execution_count": 4,
   "metadata": {
    "collapsed": true
   },
   "outputs": [],
   "source": [
    "nT = 10.0"
   ]
  },
  {
   "cell_type": "markdown",
   "metadata": {},
   "source": [
    "Other time variables:"
   ]
  },
  {
   "cell_type": "code",
   "execution_count": 5,
   "metadata": {
    "collapsed": true
   },
   "outputs": [],
   "source": [
    "nt = 200                        # Nb of time steps\n",
    "tmax = nT * T0s.max()\n",
    "time = np.linspace(0.0, tmax, nt)\n",
    "dt = time[1] - time[0]"
   ]
  },
  {
   "cell_type": "markdown",
   "metadata": {},
   "source": [
    "Let's build the total signal:"
   ]
  },
  {
   "cell_type": "code",
   "execution_count": 6,
   "metadata": {
    "collapsed": true
   },
   "outputs": [],
   "source": [
    "signal = np.zeros(nt, dtype=np.complex128)\n",
    "for i in range(len(T0s)):\n",
    "    # Real signal: negative and positive frequencies\n",
    "    #signal += np.cos(o0s[i] * time)\n",
    "    # Complex signal: only positive frequencies\n",
    "    signal += np.cos(o0s[i] * time) + 1.0j*np.sin(o0s[i] * time)"
   ]
  },
  {
   "cell_type": "markdown",
   "metadata": {},
   "source": [
    "Calculate the FFT using the wrapper:"
   ]
  },
  {
   "cell_type": "code",
   "execution_count": 7,
   "metadata": {
    "collapsed": true
   },
   "outputs": [],
   "source": [
    "fft = fftwrapper.FFT()\n",
    "fft.Set_Time_Signal(time, signal, resize_NFFT = 0)        # No resizing\n",
    "#fft.Set_Time_Signal(time, signal, resize_NFFT = -1)       # Resize to lower closest power of 2\n",
    "#fft.Set_Time_Signal(time, signal, resize_NFFT = +1)       # Resize to upper closest power of 2\n",
    "#fft.Set_Time_Signal(time, signal, resize_NFFT = 10*nt)    # Resize to specific value"
   ]
  },
  {
   "cell_type": "markdown",
   "metadata": {},
   "source": [
    "We are ready to plot!"
   ]
  },
  {
   "cell_type": "code",
   "execution_count": 8,
   "metadata": {
    "collapsed": false
   },
   "outputs": [
    {
     "data": {
      "text/plain": [
       "<matplotlib.text.Text at 0x110ff5eb8>"
      ]
     },
     "execution_count": 8,
     "metadata": {},
     "output_type": "execute_result"
    }
   ],
   "source": [
    "fig = plt.figure()\n",
    "ax1 = fig.add_subplot(211)\n",
    "ax2 = fig.add_subplot(223)\n",
    "ax3 = fig.add_subplot(224, sharex=ax2)\n",
    "\n",
    "ax1.plot(fft.t, fft.signal.real, lw=2, color='b')\n",
    "ax1.plot(fft.t, fft.signal.imag, lw=2, color='r')\n",
    "ax1.set_xlabel(\"t [time]\")\n",
    "ax1.set_ylabel(\"Signal [arb. unit]\")\n",
    "\n",
    "# Plot |FFT|\n",
    "ax2.plot(fft.f, fft.Sabs, '-', lw=2, color='m')\n",
    "ax2.set_xlabel(r\"frequencies [time$^{-1}$]\")\n",
    "ax2.set_ylabel(r\"Spectrum\")\n",
    "ax2.set_yscale('log')\n",
    "\n",
    "# Plot /_ FFT\n",
    "ax3.plot(fft.f, fft.phase, '-', lw=2, color='g')\n",
    "ax3.set_xlabel(r\"frequencies [time$^{-1}$]\")\n",
    "ax3.set_ylabel(r\"Phase\")"
   ]
  },
  {
   "cell_type": "markdown",
   "metadata": {},
   "source": [
    "We could plot the figure here:"
   ]
  },
  {
   "cell_type": "code",
   "execution_count": 9,
   "metadata": {
    "collapsed": true
   },
   "outputs": [],
   "source": [
    "#plt.show()"
   ]
  },
  {
   "cell_type": "markdown",
   "metadata": {},
   "source": [
    "But instead, we'll convert the matplotlib figure to plotly:"
   ]
  },
  {
   "cell_type": "code",
   "execution_count": 10,
   "metadata": {
    "collapsed": false
   },
   "outputs": [
    {
     "data": {
      "text/html": [
       "<iframe id=\"igraph\" scrolling=\"no\" style=\"border:none;\"seamless=\"seamless\" src=\"https://plot.ly/~nbigaouette2/21.embed\" height=\"525\" width=\"100%\"></iframe>"
      ],
      "text/plain": [
       "<plotly.tools.PlotlyDisplay object>"
      ]
     },
     "execution_count": 10,
     "metadata": {},
     "output_type": "execute_result"
    }
   ],
   "source": [
    "py.iplot_mpl(fig)"
   ]
  },
  {
   "cell_type": "code",
   "execution_count": null,
   "metadata": {
    "collapsed": true
   },
   "outputs": [],
   "source": []
  }
 ],
 "metadata": {
  "kernelspec": {
   "display_name": "Python 3",
   "language": "python",
   "name": "python3"
  },
  "language_info": {
   "codemirror_mode": {
    "name": "ipython",
    "version": 3
   },
   "file_extension": ".py",
   "mimetype": "text/x-python",
   "name": "python",
   "nbconvert_exporter": "python",
   "pygments_lexer": "ipython3",
   "version": "3.4.3"
  }
 },
 "nbformat": 4,
 "nbformat_minor": 0
}
